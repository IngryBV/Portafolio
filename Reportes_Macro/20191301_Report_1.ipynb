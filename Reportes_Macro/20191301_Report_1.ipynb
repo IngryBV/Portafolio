{
 "cells": [
  {
   "cell_type": "markdown",
   "id": "4fab8c2a",
   "metadata": {},
   "source": [
    "Reporte de lectura de \"The lean times in the Peruvian economy\"\n",
    "\n",
    "   El texto en cuestión, \"The lean times in the Peruvian economy\", brinda un enfoque que analiza los impactos recesivos en la economía peruana a lo largo de los años. Para un mejor desarrollo de este reporte, se aclara la pregunta de investigación que el artículo desarrolla: ¿Cuáles son los principales factores que llevaron a un impacto recesivo en la economía urbana ante el choque externo adverso sufrido en la economía peruana durante 2014-25?\n",
    "\n",
    "   El presente artículo, si bien no abarca los diversos factores que influyen en el desplazamiento de una economía, sí permite la compresión del por qué de este impacto recesivo utilizando como factores la inersión pública y privada, el crédito en dólares, el precio internacional de los metales y la política monetaria y fiscal. Desde el punto de vista de esta escritora, ello permite que un lector con poco conocimiento de economía no se agobie con tantos factores, sino que se enfoque en unos cuantos y así entienda a dónde quiere llegar el autor. Otra fortaleza del texto es que permite tener esperanza de cambio y salvación de la economía, no se torna en un desarrollo desalentador y poco optimista para el Perú. Además, el hecho de que el autor use diferentes periodos de declive económico peruano y los compare para ver si algún accionar distinto en los periodos elegidos es relevante apoya a contrastar cuál es el mejor camino a tomar ante un choque externo económico.\n",
    "\n",
    "   Este documento permite una mejor comprensión de los momentos de vacas flacas en el Perú, como ya se mencionó, gracias a su analisis comparado de los periodos y cómo se actuó en cada uno de ellos. Es así, que permite obserbar que el periodo del 2008-09, a pesar de que sufrió un choque externo, pudo sostener la economía y sobrellevar el problema. En adición, a manera de conclusión, brinda ideas para que el nuevo gobierno de ese momento, el de Pedro Pablo Kuczynski, pueda implementar y mejorar la situación económica; ello resulta de apoyo, ya que no solo analiza y de un reporte, la verdad bastente desalentador, sino que también da una posible solución.\n",
    "\n",
    "Para concluir con este reporte, como ya se destacó, resulta indispensable, para avanzar en la investigación y desarrollo de una respuesta a la pregunta de investigación elegida, analizar otros puntos/factores que afectan a la economía peruana. Enfocarnos en agentes medioambientales por ejemplo, ello lo menciona Azucena Vicente, en su trabajo \"Factores determinantes de la integración de la variable medio ambiente en los planteamientos de la economía de la empresa y el marketing\", allí desarrolla el tema medio ambiental y cómo este es un nuevo factor determinante de que las empresas (quienes son agentes importantes en la economía). Otro ejemplo, resulta el análisis de factores inmediatos y factores estructurales, de los cuales habla en la Revista de Economía Mundial.\n",
    "\n",
    "BIBLIOGRAFÍA:\n",
    "\n",
    "REVISTA DE ECONOMÍA MUNDIAL\n",
    "2012 \"La crisis financiera global en perspectiva: génesis y factores determinantes\". Revista de Economía Mundial. Huelva, 2012, número 31, mayo-agosto, pp. 199-226. Consulta: 03 de setiembre de 2022.\n",
    "https://www.redalyc.org/pdf/866/86623416008.pdf\n",
    "\n",
    "UNIVERSIDAD DEL PAÍS VASCO\n",
    "2002 \"Factores determinantes de la integración de la variable medio ambiente en los planteamientos de la economía de la empresa y el marketing\". Cuadernos de Gestión. Número 2, volúmen 1. Consulta: 03 de setiembre de 2022.\n",
    "https://addi.ehu.es/bitstream/handle/10810/6996/CdG_124.pdf?sequence=1&isAllowed=y\n"
   ]
  },
  {
   "cell_type": "code",
   "execution_count": null,
   "id": "0c539d50",
   "metadata": {},
   "outputs": [],
   "source": []
  }
 ],
 "metadata": {
  "kernelspec": {
   "display_name": "Python 3 (ipykernel)",
   "language": "python",
   "name": "python3"
  },
  "language_info": {
   "codemirror_mode": {
    "name": "ipython",
    "version": 3
   },
   "file_extension": ".py",
   "mimetype": "text/x-python",
   "name": "python",
   "nbconvert_exporter": "python",
   "pygments_lexer": "ipython3",
   "version": "3.9.12"
  }
 },
 "nbformat": 4,
 "nbformat_minor": 5
}
